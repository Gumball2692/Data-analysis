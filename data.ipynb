{
 "cells": [
  {
   "cell_type": "code",
   "execution_count": 1,
   "id": "9b7f9e29",
   "metadata": {},
   "outputs": [],
   "source": [
    "import numpy as np"
   ]
  },
  {
   "cell_type": "code",
   "execution_count": 2,
   "id": "890f9c80",
   "metadata": {},
   "outputs": [],
   "source": [
    "A = np.array([[ 0, 1, 2, 3, 4, 5],\n",
    "             [10, 11, 12, 13, 14, 15],\n",
    "             [20, 21, 22, 23, 24, 25],\n",
    "             [30, 31, 32, 33, 34, 35],\n",
    "             [40, 41, 42, 43, 44, 45],\n",
    "             [50, 51, 52, 53, 54, 55]])\n",
    "B = np.array([[0., 0., 0., 0., 0.],\n",
    "             [2., 0., 0., 0., 0.],\n",
    "             [0., 3., 0., 0., 0.],\n",
    "             [0., 0., 4., 0., 0.],\n",
    "             [0., 0., 0., 5., 0.],\n",
    "             [0., 0., 0., 0., 6.]])"
   ]
  },
  {
   "cell_type": "code",
   "execution_count": 3,
   "id": "ab1fbce1",
   "metadata": {},
   "outputs": [
    {
     "data": {
      "text/plain": [
       "array([[ 0,  1,  2,  3,  4,  5],\n",
       "       [10, 11, 12, 13, 14, 15],\n",
       "       [20, 21, 22, 23, 24, 25],\n",
       "       [30, 31, 32, 33, 34, 35],\n",
       "       [40, 41, 42, 43, 44, 45],\n",
       "       [50, 51, 52, 53, 54, 55]])"
      ]
     },
     "execution_count": 3,
     "metadata": {},
     "output_type": "execute_result"
    }
   ],
   "source": [
    "A"
   ]
  },
  {
   "cell_type": "code",
   "execution_count": 4,
   "id": "adcef0bd",
   "metadata": {},
   "outputs": [
    {
     "data": {
      "text/plain": [
       "array([[0., 0., 0., 0., 0.],\n",
       "       [2., 0., 0., 0., 0.],\n",
       "       [0., 3., 0., 0., 0.],\n",
       "       [0., 0., 4., 0., 0.],\n",
       "       [0., 0., 0., 5., 0.],\n",
       "       [0., 0., 0., 0., 6.]])"
      ]
     },
     "execution_count": 4,
     "metadata": {},
     "output_type": "execute_result"
    }
   ],
   "source": [
    "B"
   ]
  },
  {
   "cell_type": "code",
   "execution_count": 5,
   "id": "0a92e054",
   "metadata": {},
   "outputs": [],
   "source": [
    "import matplotlib.pyplot as plt\n",
    "%matplotlib inline"
   ]
  },
  {
   "cell_type": "code",
   "execution_count": 15,
   "id": "b459cf90",
   "metadata": {},
   "outputs": [
    {
     "data": {
      "text/plain": [
       "Text(0.5, 1.0, 'khảo sát hàm số')"
      ]
     },
     "execution_count": 15,
     "metadata": {},
     "output_type": "execute_result"
    },
    {
     "data": {
      "image/png": "[encoded data removed]",
      "text/plain": [
       "<Figure size 432x288 with 1 Axes>"
      ]
     },
     "metadata": {
      "needs_background": "light"
     },
     "output_type": "display_data"
    }
   ],
   "source": [
    "y = np.arange(1, 10)\n",
    "plt.plot(y, x)\n",
    "plt.plot(y, y)\n",
    "plt.plot(y, y**2)\n",
    "plt.legend(['x = y**2', 'x=y'])\n",
    "plt.title(\"khảo sát hàm số\")\n"
   ]
  },
  {
   "cell_type": "code",
   "execution_count": 16,
   "id": "a80c416a",
   "metadata": {},
   "outputs": [],
   "source": [
    "import pandas as pd\n",
    "import numpy as np"
   ]
  },
  {
   "cell_type": "code",
   "execution_count": 18,
   "id": "904132b1",
   "metadata": {},
   "outputs": [],
   "source": [
    "s = pd.date_range(start=\"2010/2/9\", periods=1000)"
   ]
  },
  {
   "cell_type": "code",
   "execution_count": 24,
   "id": "80c4c515",
   "metadata": {},
   "outputs": [
    {
     "data": {
      "text/html": [
       "<div>\n",
       "<style scoped>\n",
       "    .dataframe tbody tr th:only-of-type {\n",
       "        vertical-align: middle;\n",
       "    }\n",
       "\n",
       "    .dataframe tbody tr th {\n",
       "        vertical-align: top;\n",
       "    }\n",
       "\n",
       "    .dataframe thead th {\n",
       "        text-align: right;\n",
       "    }\n",
       "</style>\n",
       "<table border=\"1\" class=\"dataframe\">\n",
       "  <thead>\n",
       "    <tr style=\"text-align: right;\">\n",
       "      <th></th>\n",
       "      <th>0</th>\n",
       "      <th>1</th>\n",
       "      <th>2</th>\n",
       "    </tr>\n",
       "  </thead>\n",
       "  <tbody>\n",
       "    <tr>\n",
       "      <th>2010-02-09</th>\n",
       "      <td>0.894820</td>\n",
       "      <td>0.187208</td>\n",
       "      <td>0.538055</td>\n",
       "    </tr>\n",
       "    <tr>\n",
       "      <th>2010-02-10</th>\n",
       "      <td>0.357041</td>\n",
       "      <td>0.719883</td>\n",
       "      <td>0.696676</td>\n",
       "    </tr>\n",
       "    <tr>\n",
       "      <th>2010-02-11</th>\n",
       "      <td>0.043688</td>\n",
       "      <td>0.679242</td>\n",
       "      <td>0.474086</td>\n",
       "    </tr>\n",
       "    <tr>\n",
       "      <th>2010-02-12</th>\n",
       "      <td>0.687537</td>\n",
       "      <td>0.678598</td>\n",
       "      <td>0.922262</td>\n",
       "    </tr>\n",
       "    <tr>\n",
       "      <th>2010-02-13</th>\n",
       "      <td>0.900142</td>\n",
       "      <td>0.236382</td>\n",
       "      <td>0.889964</td>\n",
       "    </tr>\n",
       "    <tr>\n",
       "      <th>...</th>\n",
       "      <td>...</td>\n",
       "      <td>...</td>\n",
       "      <td>...</td>\n",
       "    </tr>\n",
       "    <tr>\n",
       "      <th>2012-10-31</th>\n",
       "      <td>0.798292</td>\n",
       "      <td>0.933468</td>\n",
       "      <td>0.913260</td>\n",
       "    </tr>\n",
       "    <tr>\n",
       "      <th>2012-11-01</th>\n",
       "      <td>0.433901</td>\n",
       "      <td>0.072315</td>\n",
       "      <td>0.121635</td>\n",
       "    </tr>\n",
       "    <tr>\n",
       "      <th>2012-11-02</th>\n",
       "      <td>0.517731</td>\n",
       "      <td>0.095321</td>\n",
       "      <td>0.294081</td>\n",
       "    </tr>\n",
       "    <tr>\n",
       "      <th>2012-11-03</th>\n",
       "      <td>0.097871</td>\n",
       "      <td>0.755231</td>\n",
       "      <td>0.135156</td>\n",
       "    </tr>\n",
       "    <tr>\n",
       "      <th>2012-11-04</th>\n",
       "      <td>0.949998</td>\n",
       "      <td>0.370859</td>\n",
       "      <td>0.575861</td>\n",
       "    </tr>\n",
       "  </tbody>\n",
       "</table>\n",
       "<p>1000 rows × 3 columns</p>\n",
       "</div>"
      ],
      "text/plain": [
       "                   0         1         2\n",
       "2010-02-09  0.894820  0.187208  0.538055\n",
       "2010-02-10  0.357041  0.719883  0.696676\n",
       "2010-02-11  0.043688  0.679242  0.474086\n",
       "2010-02-12  0.687537  0.678598  0.922262\n",
       "2010-02-13  0.900142  0.236382  0.889964\n",
       "...              ...       ...       ...\n",
       "2012-10-31  0.798292  0.933468  0.913260\n",
       "2012-11-01  0.433901  0.072315  0.121635\n",
       "2012-11-02  0.517731  0.095321  0.294081\n",
       "2012-11-03  0.097871  0.755231  0.135156\n",
       "2012-11-04  0.949998  0.370859  0.575861\n",
       "\n",
       "[1000 rows x 3 columns]"
      ]
     },
     "execution_count": 24,
     "metadata": {},
     "output_type": "execute_result"
    }
   ],
   "source": [
    "df = pd.DataFrame(data=np.random.rand(1000, 3), index=s)\n",
    "df"
   ]
  },
  {
   "cell_type": "code",
   "execution_count": 25,
   "id": "7af64670",
   "metadata": {},
   "outputs": [
    {
     "data": {
      "text/html": [
       "<div>\n",
       "<style scoped>\n",
       "    .dataframe tbody tr th:only-of-type {\n",
       "        vertical-align: middle;\n",
       "    }\n",
       "\n",
       "    .dataframe tbody tr th {\n",
       "        vertical-align: top;\n",
       "    }\n",
       "\n",
       "    .dataframe thead th {\n",
       "        text-align: right;\n",
       "    }\n",
       "</style>\n",
       "<table border=\"1\" class=\"dataframe\">\n",
       "  <thead>\n",
       "    <tr style=\"text-align: right;\">\n",
       "      <th></th>\n",
       "      <th>0</th>\n",
       "      <th>1</th>\n",
       "      <th>2</th>\n",
       "    </tr>\n",
       "  </thead>\n",
       "  <tbody>\n",
       "    <tr>\n",
       "      <th>2010-02-09</th>\n",
       "      <td>0.894820</td>\n",
       "      <td>0.187208</td>\n",
       "      <td>0.538055</td>\n",
       "    </tr>\n",
       "    <tr>\n",
       "      <th>2010-02-10</th>\n",
       "      <td>1.251861</td>\n",
       "      <td>0.907091</td>\n",
       "      <td>1.234731</td>\n",
       "    </tr>\n",
       "    <tr>\n",
       "      <th>2010-02-11</th>\n",
       "      <td>1.295549</td>\n",
       "      <td>1.586333</td>\n",
       "      <td>1.708818</td>\n",
       "    </tr>\n",
       "    <tr>\n",
       "      <th>2010-02-12</th>\n",
       "      <td>1.983086</td>\n",
       "      <td>2.264931</td>\n",
       "      <td>2.631080</td>\n",
       "    </tr>\n",
       "    <tr>\n",
       "      <th>2010-02-13</th>\n",
       "      <td>2.883229</td>\n",
       "      <td>2.501313</td>\n",
       "      <td>3.521044</td>\n",
       "    </tr>\n",
       "    <tr>\n",
       "      <th>...</th>\n",
       "      <td>...</td>\n",
       "      <td>...</td>\n",
       "      <td>...</td>\n",
       "    </tr>\n",
       "    <tr>\n",
       "      <th>2012-10-31</th>\n",
       "      <td>485.347622</td>\n",
       "      <td>513.652616</td>\n",
       "      <td>492.396965</td>\n",
       "    </tr>\n",
       "    <tr>\n",
       "      <th>2012-11-01</th>\n",
       "      <td>485.781523</td>\n",
       "      <td>513.724931</td>\n",
       "      <td>492.518599</td>\n",
       "    </tr>\n",
       "    <tr>\n",
       "      <th>2012-11-02</th>\n",
       "      <td>486.299254</td>\n",
       "      <td>513.820252</td>\n",
       "      <td>492.812681</td>\n",
       "    </tr>\n",
       "    <tr>\n",
       "      <th>2012-11-03</th>\n",
       "      <td>486.397125</td>\n",
       "      <td>514.575483</td>\n",
       "      <td>492.947837</td>\n",
       "    </tr>\n",
       "    <tr>\n",
       "      <th>2012-11-04</th>\n",
       "      <td>487.347123</td>\n",
       "      <td>514.946342</td>\n",
       "      <td>493.523698</td>\n",
       "    </tr>\n",
       "  </tbody>\n",
       "</table>\n",
       "<p>1000 rows × 3 columns</p>\n",
       "</div>"
      ],
      "text/plain": [
       "                     0           1           2\n",
       "2010-02-09    0.894820    0.187208    0.538055\n",
       "2010-02-10    1.251861    0.907091    1.234731\n",
       "2010-02-11    1.295549    1.586333    1.708818\n",
       "2010-02-12    1.983086    2.264931    2.631080\n",
       "2010-02-13    2.883229    2.501313    3.521044\n",
       "...                ...         ...         ...\n",
       "2012-10-31  485.347622  513.652616  492.396965\n",
       "2012-11-01  485.781523  513.724931  492.518599\n",
       "2012-11-02  486.299254  513.820252  492.812681\n",
       "2012-11-03  486.397125  514.575483  492.947837\n",
       "2012-11-04  487.347123  514.946342  493.523698\n",
       "\n",
       "[1000 rows x 3 columns]"
      ]
     },
     "execution_count": 25,
     "metadata": {},
     "output_type": "execute_result"
    }
   ],
   "source": [
    "df.cumsum()\n"
   ]
  },
  {
   "cell_type": "code",
   "execution_count": 26,
   "id": "3a55c648",
   "metadata": {},
   "outputs": [
    {
     "data": {
      "text/plain": [
       "<AxesSubplot:title={'center':'bang du lieu'}>"
      ]
     },
     "execution_count": 26,
     "metadata": {},
     "output_type": "execute_result"
    },
    {
     "data": {
      "image/png": "[encoded data removed]",
      "text/plain": [
       "<Figure size 432x288 with 1 Axes>"
      ]
     },
     "metadata": {
      "needs_background": "light"
     },
     "output_type": "display_data"
    }
   ],
   "source": [
    "df.plot(title=\"bang du lieu\")"
   ]
  },
  {
   "cell_type": "code",
   "execution_count": null,
   "id": "1c0bf52d",
   "metadata": {},
   "outputs": [],
   "source": []
  },
  {
   "cell_type": "code",
   "execution_count": null,
   "id": "6bfde08c",
   "metadata": {},
   "outputs": [],
   "source": []
  },
  {
   "cell_type": "code",
   "execution_count": null,
   "id": "a30f6e53",
   "metadata": {},
   "outputs": [],
   "source": []
  },
  {
   "cell_type": "code",
   "execution_count": null,
   "id": "89871643",
   "metadata": {},
   "outputs": [],
   "source": []
  }
 ],
 "metadata": {
  "kernelspec": {
   "display_name": "Python 3",
   "language": "python",
   "name": "python3"
  },
  "language_info": {
   "codemirror_mode": {
    "name": "ipython",
    "version": 3
   },
   "file_extension": ".py",
   "mimetype": "text/x-python",
   "name": "python",
   "nbconvert_exporter": "python",
   "pygments_lexer": "ipython3",
   "version": "3.8.5"
  }
 },
 "nbformat": 4,
 "nbformat_minor": 5
}
